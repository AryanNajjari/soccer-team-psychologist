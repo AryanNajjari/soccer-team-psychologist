{
 "cells": [
  {
   "cell_type": "code",
   "execution_count": 14,
   "id": "70a1e495-1ddd-4553-a314-890816372579",
   "metadata": {},
   "outputs": [],
   "source": [
    "# imports\n",
    "\n",
    "import os\n",
    "import json\n",
    "from dotenv import load_dotenv\n",
    "from openai import OpenAI\n",
    "import gradio as gr"
   ]
  },
  {
   "cell_type": "code",
   "execution_count": 15,
   "id": "2e6fc1e0-8fe9-475e-8703-cfb161c679f7",
   "metadata": {},
   "outputs": [
    {
     "name": "stdout",
     "output_type": "stream",
     "text": [
      "OpenAI API Key exists and begins sk-proj-\n"
     ]
    }
   ],
   "source": [
    "# Initialization\n",
    "\n",
    "load_dotenv(override=True)\n",
    "\n",
    "openai_api_key = os.getenv('OPENAI_API_KEY')\n",
    "if openai_api_key:\n",
    "    print(f\"OpenAI API Key exists and begins {openai_api_key[:8]}\")\n",
    "else:\n",
    "    print(\"OpenAI API Key not set\")\n",
    "    \n",
    "MODEL = \"gpt-4o-mini\"\n",
    "openai = OpenAI()"
   ]
  },
  {
   "cell_type": "code",
   "execution_count": 16,
   "id": "6c491ef1-a3c8-4ff4-a87a-86952efa2498",
   "metadata": {},
   "outputs": [],
   "source": [
    "system_message = \"You are a psychologist for a soccer team who helps players stay mentally sharp and not let obstacles such as injuries, suspensions, off-field issues, or family problems affect their concentration.\"\n",
    "system_message += \"Give very kind and nice answers to keep the athelete's motivation; but not very long answers and instead of long answers, try to ask questions about more details and then response based on that response and reach a conclusion after an acceptable amount of questions. \"\n",
    "system_message += \"After making the athelete's calm, try to give them useful instructions to do for being able to deal with their problem.\""
   ]
  },
  {
   "cell_type": "code",
   "execution_count": 17,
   "id": "49ff4366-4118-40b3-a6be-40f638eba883",
   "metadata": {},
   "outputs": [],
   "source": [
    "#Audio\n",
    "from pydub import AudioSegment\n",
    "from pydub.playback import play\n",
    "from io import BytesIO\n",
    "\n",
    "\n",
    "def talker(message):\n",
    "    response = openai.audio.speech.create(\n",
    "      model=\"tts-1\",\n",
    "      voice=\"nova\",   #type of the voice \n",
    "      input=message\n",
    "    )\n",
    "    \n",
    "    audio_stream = BytesIO(response.content)\n",
    "    audio = AudioSegment.from_file(audio_stream, format=\"mp3\")\n",
    "    play(audio)"
   ]
  },
  {
   "cell_type": "code",
   "execution_count": 20,
   "id": "f4c82039-2cc3-473e-96aa-ab72f2546626",
   "metadata": {},
   "outputs": [
    {
     "name": "stdout",
     "output_type": "stream",
     "text": [
      "* Running on local URL:  http://127.0.0.1:7866\n",
      "* To create a public link, set `share=True` in `launch()`.\n"
     ]
    },
    {
     "data": {
      "text/html": [
       "<div><iframe src=\"http://127.0.0.1:7866/\" width=\"100%\" height=\"500\" allow=\"autoplay; camera; microphone; clipboard-read; clipboard-write;\" frameborder=\"0\" allowfullscreen></iframe></div>"
      ],
      "text/plain": [
       "<IPython.core.display.HTML object>"
      ]
     },
     "metadata": {},
     "output_type": "display_data"
    },
    {
     "data": {
      "text/plain": []
     },
     "execution_count": 20,
     "metadata": {},
     "output_type": "execute_result"
    }
   ],
   "source": [
    "def chat(message, history):\n",
    "    messages = [{\"role\": \"system\", \"content\": system_message}] + history + [{\"role\": \"user\", \"content\": message}]\n",
    "    response = openai.chat.completions.create(model=MODEL, messages=messages)\n",
    "    reply = response.choices[0].message.content\n",
    "    talker(reply)\n",
    "    return reply\n",
    "\n",
    "# Function to generate markdown instructions\n",
    "def generate_instructions(history):\n",
    "    conversation_text = \"\\n\".join([\n",
    "        f\"Player: {h['content']}\" if h[\"role\"] == \"user\" else f\"Psychologist: {h['content']}\"\n",
    "        for h in history if h[\"role\"] in [\"user\", \"assistant\"]\n",
    "    ])\n",
    "    \n",
    "    prompt = f\"\"\"\n",
    "    Based on the following conversation between a soccer player and their psychologist,\n",
    "    write clear, motivational, and practical instructions for the player.\n",
    "    Format the response in Markdown with headers, bullet points, and short sentences.\n",
    "\n",
    "    Conversation:\n",
    "    {conversation_text}\n",
    "    \"\"\"\n",
    "\n",
    "    response = openai.chat.completions.create(\n",
    "        model=MODEL,\n",
    "        messages=[\n",
    "            {\"role\": \"system\", \"content\": \"You are a sports psychologist writing practical instructions.\"},\n",
    "            {\"role\": \"user\", \"content\": prompt}\n",
    "        ]\n",
    "    )\n",
    "    return response.choices[0].message.content\n",
    "\n",
    "# Wrap ChatInterface + extra button inside Blocks\n",
    "with gr.Blocks() as demo:\n",
    "    chatbot = gr.ChatInterface(fn=chat, type=\"messages\")\n",
    "    instructions_btn = gr.Button(\"Generate Instructions\")\n",
    "    instructions_output = gr.Markdown()\n",
    "\n",
    "    # Connect button\n",
    "    instructions_btn.click(fn=generate_instructions, inputs=chatbot.chatbot, outputs=instructions_output)\n",
    "\n",
    "demo.launch()"
   ]
  },
  {
   "cell_type": "code",
   "execution_count": null,
   "id": "1cd8d82f-d165-4548-99d2-16c6d28432e7",
   "metadata": {},
   "outputs": [],
   "source": []
  }
 ],
 "metadata": {
  "kernelspec": {
   "display_name": "Python [conda env:base] *",
   "language": "python",
   "name": "conda-base-py"
  },
  "language_info": {
   "codemirror_mode": {
    "name": "ipython",
    "version": 3
   },
   "file_extension": ".py",
   "mimetype": "text/x-python",
   "name": "python",
   "nbconvert_exporter": "python",
   "pygments_lexer": "ipython3",
   "version": "3.13.5"
  }
 },
 "nbformat": 4,
 "nbformat_minor": 5
}
